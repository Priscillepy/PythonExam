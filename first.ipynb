{
 "cells": [
  {
   "cell_type": "code",
   "execution_count": 1,
   "metadata": {},
   "outputs": [
    {
     "name": "stdout",
     "output_type": "stream",
     "text": [
      "Hi guys! I'm here!\n"
     ]
    }
   ],
   "source": [
    "print(\"Hi guys! I'm here!\")"
   ]
  },
  {
   "cell_type": "code",
   "execution_count": 16,
   "metadata": {},
   "outputs": [
    {
     "name": "stdout",
     "output_type": "stream",
     "text": [
      " Sub-arrays are [ 2, 5 ]\n"
     ]
    }
   ],
   "source": [
    "def divide_array_into_sub_arrays(array):\n",
    "    count = 0\n",
    "    for i in range(len(array)):\n",
    "        count+= array[i]\n",
    "        for j in range(1, len(array)):\n",
    "            sum = array[i] + array[j]\n",
    "            if sum == count:\n",
    "                return f\" Sub-arrays are [ {array[i]}, {array[j]} ]\"\n",
    "\n",
    "   \n",
    "print(divide_array_into_sub_arrays([1, 4, 2, 5]))\n"
   ]
  },
  {
   "cell_type": "code",
   "execution_count": null,
   "metadata": {},
   "outputs": [],
   "source": []
  }
 ],
 "metadata": {
  "kernelspec": {
   "display_name": "Python 3.10.5 64-bit",
   "language": "python",
   "name": "python3"
  },
  "language_info": {
   "codemirror_mode": {
    "name": "ipython",
    "version": 3
   },
   "file_extension": ".py",
   "mimetype": "text/x-python",
   "name": "python",
   "nbconvert_exporter": "python",
   "pygments_lexer": "ipython3",
   "version": "3.10.5"
  },
  "orig_nbformat": 4,
  "vscode": {
   "interpreter": {
    "hash": "52886572d2fef9145b8af58d785d99afdbfc85b1a997ce60f0450044851d91fb"
   }
  }
 },
 "nbformat": 4,
 "nbformat_minor": 2
}
